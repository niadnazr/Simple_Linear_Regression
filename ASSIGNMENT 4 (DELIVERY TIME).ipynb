{
 "cells": [
  {
   "cell_type": "markdown",
   "id": "889c2dbc",
   "metadata": {},
   "source": [
    "Q: 1) Delivery_time -> Predict delivery time using sorting time\n",
    "\n",
    "Build a simple linear regression model by performing EDA and do necessary transformations and select the best model using R or Python."
   ]
  },
  {
   "cell_type": "code",
   "execution_count": 97,
   "id": "bd45314e",
   "metadata": {},
   "outputs": [],
   "source": [
    "import pandas as pd\n",
    "import numpy as np\n",
    "from scipy import stats\n",
    "import seaborn as sns \n",
    "import statsmodels.formula.api as smf\n",
    "import matplotlib.pyplot as plt"
   ]
  },
  {
   "cell_type": "code",
   "execution_count": 98,
   "id": "70058ac7",
   "metadata": {},
   "outputs": [
    {
     "name": "stdout",
     "output_type": "stream",
     "text": [
      "    Delivery Time  Sorting Time\n",
      "0           21.00            10\n",
      "1           13.50             4\n",
      "2           19.75             6\n",
      "3           24.00             9\n",
      "4           29.00            10\n",
      "5           15.35             6\n",
      "6           19.00             7\n",
      "7            9.50             3\n",
      "8           17.90            10\n",
      "9           18.75             9\n",
      "10          19.83             8\n",
      "11          10.75             4\n",
      "12          16.68             7\n",
      "13          11.50             3\n",
      "14          12.03             3\n",
      "15          14.88             4\n",
      "16          13.75             6\n",
      "17          18.11             7\n",
      "18           8.00             2\n",
      "19          17.83             7\n",
      "20          21.50             5\n"
     ]
    }
   ],
   "source": [
    "df = pd.read_csv('/Users/nihadnazar/Desktop/ASSIGNMENTS/DATASETS/delivery_time.csv')\n",
    "print(df)"
   ]
  },
  {
   "cell_type": "markdown",
   "id": "530bdad6",
   "metadata": {},
   "source": [
    "   DATA UNDERSTANDING\n",
    "   \n",
    "•Initial Analysis "
   ]
  },
  {
   "cell_type": "code",
   "execution_count": 99,
   "id": "44d79bce",
   "metadata": {},
   "outputs": [
    {
     "data": {
      "text/plain": [
       "(21, 2)"
      ]
     },
     "execution_count": 99,
     "metadata": {},
     "output_type": "execute_result"
    }
   ],
   "source": [
    "df.shape"
   ]
  },
  {
   "cell_type": "code",
   "execution_count": 100,
   "id": "faf13a43",
   "metadata": {},
   "outputs": [
    {
     "data": {
      "text/plain": [
       "Delivery Time    0\n",
       "Sorting Time     0\n",
       "dtype: int64"
      ]
     },
     "execution_count": 100,
     "metadata": {},
     "output_type": "execute_result"
    }
   ],
   "source": [
    "df.isna().sum()"
   ]
  },
  {
   "cell_type": "code",
   "execution_count": 101,
   "id": "04e0be58",
   "metadata": {},
   "outputs": [
    {
     "name": "stdout",
     "output_type": "stream",
     "text": [
      "<class 'pandas.core.frame.DataFrame'>\n",
      "RangeIndex: 21 entries, 0 to 20\n",
      "Data columns (total 2 columns):\n",
      " #   Column         Non-Null Count  Dtype  \n",
      "---  ------         --------------  -----  \n",
      " 0   Delivery Time  21 non-null     float64\n",
      " 1   Sorting Time   21 non-null     int64  \n",
      "dtypes: float64(1), int64(1)\n",
      "memory usage: 464.0 bytes\n"
     ]
    }
   ],
   "source": [
    "df.info()"
   ]
  },
  {
   "cell_type": "code",
   "execution_count": 102,
   "id": "7abf0ef9",
   "metadata": {},
   "outputs": [
    {
     "data": {
      "text/plain": [
       "Delivery Time    float64\n",
       "Sorting Time       int64\n",
       "dtype: object"
      ]
     },
     "execution_count": 102,
     "metadata": {},
     "output_type": "execute_result"
    }
   ],
   "source": [
    "df.dtypes"
   ]
  },
  {
   "cell_type": "code",
   "execution_count": 103,
   "id": "82d9503d",
   "metadata": {},
   "outputs": [
    {
     "data": {
      "text/html": [
       "<div>\n",
       "<style scoped>\n",
       "    .dataframe tbody tr th:only-of-type {\n",
       "        vertical-align: middle;\n",
       "    }\n",
       "\n",
       "    .dataframe tbody tr th {\n",
       "        vertical-align: top;\n",
       "    }\n",
       "\n",
       "    .dataframe thead th {\n",
       "        text-align: right;\n",
       "    }\n",
       "</style>\n",
       "<table border=\"1\" class=\"dataframe\">\n",
       "  <thead>\n",
       "    <tr style=\"text-align: right;\">\n",
       "      <th></th>\n",
       "      <th>DELIVERY_TIME</th>\n",
       "      <th>SORTING_TIME</th>\n",
       "    </tr>\n",
       "  </thead>\n",
       "  <tbody>\n",
       "    <tr>\n",
       "      <th>0</th>\n",
       "      <td>21.00</td>\n",
       "      <td>10</td>\n",
       "    </tr>\n",
       "    <tr>\n",
       "      <th>1</th>\n",
       "      <td>13.50</td>\n",
       "      <td>4</td>\n",
       "    </tr>\n",
       "    <tr>\n",
       "      <th>2</th>\n",
       "      <td>19.75</td>\n",
       "      <td>6</td>\n",
       "    </tr>\n",
       "    <tr>\n",
       "      <th>3</th>\n",
       "      <td>24.00</td>\n",
       "      <td>9</td>\n",
       "    </tr>\n",
       "    <tr>\n",
       "      <th>4</th>\n",
       "      <td>29.00</td>\n",
       "      <td>10</td>\n",
       "    </tr>\n",
       "  </tbody>\n",
       "</table>\n",
       "</div>"
      ],
      "text/plain": [
       "   DELIVERY_TIME  SORTING_TIME\n",
       "0          21.00            10\n",
       "1          13.50             4\n",
       "2          19.75             6\n",
       "3          24.00             9\n",
       "4          29.00            10"
      ]
     },
     "execution_count": 103,
     "metadata": {},
     "output_type": "execute_result"
    }
   ],
   "source": [
    "#RENAMING THE COLUMNS\n",
    "df = df.rename(columns={'Delivery Time' : 'DELIVERY_TIME'})\n",
    "df = df.rename(columns={'Sorting Time' : 'SORTING_TIME'})\n",
    "df.head()"
   ]
  },
  {
   "cell_type": "markdown",
   "id": "2467c4d0",
   "metadata": {},
   "source": [
    "• ASSUMPTION CHECK\n",
    "\n",
    "1. LINEARITY CHECK"
   ]
  },
  {
   "cell_type": "code",
   "execution_count": 104,
   "id": "011a5c43",
   "metadata": {},
   "outputs": [
    {
     "data": {
      "image/png": "[encoded data removed]",
      "text/plain": [
       "<Figure size 640x480 with 1 Axes>"
      ]
     },
     "metadata": {},
     "output_type": "display_data"
    }
   ],
   "source": [
    "sns.scatterplot(x = 'SORTING_TIME',y='DELIVERY_TIME',data=df)\n",
    "plt.title('DELIVERY x SORTING TIME')\n",
    "plt.show()"
   ]
  },
  {
   "cell_type": "markdown",
   "id": "32439284",
   "metadata": {},
   "source": [
    "2. NORMALITY TEST\n",
    "\n",
    "HERE WE ARE USING THE DISTRIBUTION PLOTTING TECHNIQUE."
   ]
  },
  {
   "cell_type": "code",
   "execution_count": 105,
   "id": "1fa693f1",
   "metadata": {},
   "outputs": [
    {
     "name": "stderr",
     "output_type": "stream",
     "text": [
      "/var/folders/8s/_rqw5h_j02n6kdq9xprv4k9r0000gn/T/ipykernel_1096/2692494565.py:1: UserWarning: \n",
      "\n",
      "`distplot` is a deprecated function and will be removed in seaborn v0.14.0.\n",
      "\n",
      "Please adapt your code to use either `displot` (a figure-level function with\n",
      "similar flexibility) or `histplot` (an axes-level function for histograms).\n",
      "\n",
      "For a guide to updating your code to use the new functions, please see\n",
      "https://gist.github.com/mwaskom/de44147ed2974457ad6372750bbe5751\n",
      "\n",
      "  sns.distplot(a=df['SORTING_TIME'])\n"
     ]
    },
    {
     "data": {
      "image/png": "[encoded data removed]",
      "text/plain": [
       "<Figure size 640x480 with 1 Axes>"
      ]
     },
     "metadata": {},
     "output_type": "display_data"
    }
   ],
   "source": [
    "sns.distplot(a=df['SORTING_TIME'])\n",
    "plt.title('DISTRIBUTION PLOT OF SORTING TIME')\n",
    "plt.show()"
   ]
  },
  {
   "cell_type": "code",
   "execution_count": 106,
   "id": "dc5f2d1a",
   "metadata": {},
   "outputs": [
    {
     "data": {
      "text/plain": [
       "0.047115474210530174"
      ]
     },
     "execution_count": 106,
     "metadata": {},
     "output_type": "execute_result"
    }
   ],
   "source": [
    "df['SORTING_TIME'].skew()"
   ]
  },
  {
   "cell_type": "markdown",
   "id": "bab11323",
   "metadata": {},
   "source": [
    "As we can see, the skewness is between 0 - 0.05, so we accept it.\n",
    "\n",
    "3. MULTICOLINEARITY"
   ]
  },
  {
   "cell_type": "code",
   "execution_count": 107,
   "id": "9eee7ce3",
   "metadata": {},
   "outputs": [
    {
     "data": {
      "text/html": [
       "<div>\n",
       "<style scoped>\n",
       "    .dataframe tbody tr th:only-of-type {\n",
       "        vertical-align: middle;\n",
       "    }\n",
       "\n",
       "    .dataframe tbody tr th {\n",
       "        vertical-align: top;\n",
       "    }\n",
       "\n",
       "    .dataframe thead th {\n",
       "        text-align: right;\n",
       "    }\n",
       "</style>\n",
       "<table border=\"1\" class=\"dataframe\">\n",
       "  <thead>\n",
       "    <tr style=\"text-align: right;\">\n",
       "      <th></th>\n",
       "      <th>DELIVERY_TIME</th>\n",
       "      <th>SORTING_TIME</th>\n",
       "    </tr>\n",
       "  </thead>\n",
       "  <tbody>\n",
       "    <tr>\n",
       "      <th>DELIVERY_TIME</th>\n",
       "      <td>1.000000</td>\n",
       "      <td>0.825997</td>\n",
       "    </tr>\n",
       "    <tr>\n",
       "      <th>SORTING_TIME</th>\n",
       "      <td>0.825997</td>\n",
       "      <td>1.000000</td>\n",
       "    </tr>\n",
       "  </tbody>\n",
       "</table>\n",
       "</div>"
      ],
      "text/plain": [
       "               DELIVERY_TIME  SORTING_TIME\n",
       "DELIVERY_TIME       1.000000      0.825997\n",
       "SORTING_TIME        0.825997      1.000000"
      ]
     },
     "execution_count": 107,
     "metadata": {},
     "output_type": "execute_result"
    }
   ],
   "source": [
    "#Here we use correlation matrix\n",
    "df.corr()"
   ]
  },
  {
   "cell_type": "markdown",
   "id": "104a3bfe",
   "metadata": {},
   "source": [
    "4. AUTO REGRESSION CHECK\n",
    "\n",
    "SINCE HERE THERE IS NO TIME BASED INPUT, WE NEED NOT TO CHECK THE AUTO REGRESSION.\n"
   ]
  },
  {
   "cell_type": "markdown",
   "id": "1285b249",
   "metadata": {},
   "source": [
    "5. MODEL BUILDING"
   ]
  },
  {
   "cell_type": "code",
   "execution_count": 108,
   "id": "6c89c803",
   "metadata": {},
   "outputs": [
    {
     "data": {
      "image/png": "[encoded data removed]",
      "text/plain": [
       "<Figure size 500x500 with 1 Axes>"
      ]
     },
     "metadata": {},
     "output_type": "display_data"
    }
   ],
   "source": [
    "sns.lmplot(x = 'SORTING_TIME',y= 'DELIVERY_TIME',data = df)\n",
    "plt.title('DELIVERY x SORTING TIME')\n",
    "plt.show()"
   ]
  },
  {
   "cell_type": "code",
   "execution_count": 109,
   "id": "ee469f4c",
   "metadata": {},
   "outputs": [
    {
     "data": {
      "text/html": [
       "<table class=\"simpletable\">\n",
       "<caption>OLS Regression Results</caption>\n",
       "<tr>\n",
       "  <th>Dep. Variable:</th>      <td>DELIVERY_TIME</td>  <th>  R-squared:         </th> <td>   0.682</td>\n",
       "</tr>\n",
       "<tr>\n",
       "  <th>Model:</th>                   <td>OLS</td>       <th>  Adj. R-squared:    </th> <td>   0.666</td>\n",
       "</tr>\n",
       "<tr>\n",
       "  <th>Method:</th>             <td>Least Squares</td>  <th>  F-statistic:       </th> <td>   40.80</td>\n",
       "</tr>\n",
       "<tr>\n",
       "  <th>Date:</th>             <td>Sun, 13 Nov 2022</td> <th>  Prob (F-statistic):</th> <td>3.98e-06</td>\n",
       "</tr>\n",
       "<tr>\n",
       "  <th>Time:</th>                 <td>17:55:46</td>     <th>  Log-Likelihood:    </th> <td> -51.357</td>\n",
       "</tr>\n",
       "<tr>\n",
       "  <th>No. Observations:</th>      <td>    21</td>      <th>  AIC:               </th> <td>   106.7</td>\n",
       "</tr>\n",
       "<tr>\n",
       "  <th>Df Residuals:</th>          <td>    19</td>      <th>  BIC:               </th> <td>   108.8</td>\n",
       "</tr>\n",
       "<tr>\n",
       "  <th>Df Model:</th>              <td>     1</td>      <th>                     </th>     <td> </td>   \n",
       "</tr>\n",
       "<tr>\n",
       "  <th>Covariance Type:</th>      <td>nonrobust</td>    <th>                     </th>     <td> </td>   \n",
       "</tr>\n",
       "</table>\n",
       "<table class=\"simpletable\">\n",
       "<tr>\n",
       "        <td></td>          <th>coef</th>     <th>std err</th>      <th>t</th>      <th>P>|t|</th>  <th>[0.025</th>    <th>0.975]</th>  \n",
       "</tr>\n",
       "<tr>\n",
       "  <th>Intercept</th>    <td>    6.5827</td> <td>    1.722</td> <td>    3.823</td> <td> 0.001</td> <td>    2.979</td> <td>   10.186</td>\n",
       "</tr>\n",
       "<tr>\n",
       "  <th>SORTING_TIME</th> <td>    1.6490</td> <td>    0.258</td> <td>    6.387</td> <td> 0.000</td> <td>    1.109</td> <td>    2.189</td>\n",
       "</tr>\n",
       "</table>\n",
       "<table class=\"simpletable\">\n",
       "<tr>\n",
       "  <th>Omnibus:</th>       <td> 3.649</td> <th>  Durbin-Watson:     </th> <td>   1.248</td>\n",
       "</tr>\n",
       "<tr>\n",
       "  <th>Prob(Omnibus):</th> <td> 0.161</td> <th>  Jarque-Bera (JB):  </th> <td>   2.086</td>\n",
       "</tr>\n",
       "<tr>\n",
       "  <th>Skew:</th>          <td> 0.750</td> <th>  Prob(JB):          </th> <td>   0.352</td>\n",
       "</tr>\n",
       "<tr>\n",
       "  <th>Kurtosis:</th>      <td> 3.367</td> <th>  Cond. No.          </th> <td>    18.3</td>\n",
       "</tr>\n",
       "</table><br/><br/>Notes:<br/>[1] Standard Errors assume that the covariance matrix of the errors is correctly specified."
      ],
      "text/plain": [
       "<class 'statsmodels.iolib.summary.Summary'>\n",
       "\"\"\"\n",
       "                            OLS Regression Results                            \n",
       "==============================================================================\n",
       "Dep. Variable:          DELIVERY_TIME   R-squared:                       0.682\n",
       "Model:                            OLS   Adj. R-squared:                  0.666\n",
       "Method:                 Least Squares   F-statistic:                     40.80\n",
       "Date:                Sun, 13 Nov 2022   Prob (F-statistic):           3.98e-06\n",
       "Time:                        17:55:46   Log-Likelihood:                -51.357\n",
       "No. Observations:                  21   AIC:                             106.7\n",
       "Df Residuals:                      19   BIC:                             108.8\n",
       "Df Model:                           1                                         \n",
       "Covariance Type:            nonrobust                                         \n",
       "================================================================================\n",
       "                   coef    std err          t      P>|t|      [0.025      0.975]\n",
       "--------------------------------------------------------------------------------\n",
       "Intercept        6.5827      1.722      3.823      0.001       2.979      10.186\n",
       "SORTING_TIME     1.6490      0.258      6.387      0.000       1.109       2.189\n",
       "==============================================================================\n",
       "Omnibus:                        3.649   Durbin-Watson:                   1.248\n",
       "Prob(Omnibus):                  0.161   Jarque-Bera (JB):                2.086\n",
       "Skew:                           0.750   Prob(JB):                        0.352\n",
       "Kurtosis:                       3.367   Cond. No.                         18.3\n",
       "==============================================================================\n",
       "\n",
       "Notes:\n",
       "[1] Standard Errors assume that the covariance matrix of the errors is correctly specified.\n",
       "\"\"\""
      ]
     },
     "execution_count": 109,
     "metadata": {},
     "output_type": "execute_result"
    }
   ],
   "source": [
    "#As we can see the all points are not touching the linear line, it is not exactly linear.\n",
    "model = smf.ols(formula='DELIVERY_TIME ~ SORTING_TIME',data = df).fit()\n",
    "model.summary()"
   ]
  },
  {
   "cell_type": "code",
   "execution_count": 110,
   "id": "098256d8",
   "metadata": {},
   "outputs": [
    {
     "data": {
      "text/plain": [
       "Intercept       6.582734\n",
       "SORTING_TIME    1.649020\n",
       "dtype: float64"
      ]
     },
     "execution_count": 110,
     "metadata": {},
     "output_type": "execute_result"
    }
   ],
   "source": [
    "model.params"
   ]
  },
  {
   "cell_type": "code",
   "execution_count": 111,
   "id": "ac977ade",
   "metadata": {},
   "outputs": [
    {
     "name": "stdout",
     "output_type": "stream",
     "text": [
      "T VALUE OF THE MODEL IS: \n",
      " Intercept       3.823349\n",
      "SORTING_TIME    6.387447\n",
      "dtype: float64 \n",
      "\n",
      "P VALUE OF THE MODEL IS: \n",
      " Intercept       0.001147\n",
      "SORTING_TIME    0.000004\n",
      "dtype: float64\n"
     ]
    }
   ],
   "source": [
    "print('T VALUE OF THE MODEL IS: \\n',model.tvalues,'\\n\\nP VALUE OF THE MODEL IS: \\n',model.pvalues)"
   ]
  },
  {
   "cell_type": "code",
   "execution_count": 112,
   "id": "77dd0e8d",
   "metadata": {},
   "outputs": [
    {
     "name": "stdout",
     "output_type": "stream",
     "text": [
      "R SQUARED VALUE: 0.6822714748417231 \n",
      "ADJUSTED R SQUARED VALUE:  0.6655489208860244\n"
     ]
    }
   ],
   "source": [
    "print('R SQUARED VALUE:',model.rsquared,'\\nADJACENT R SQUARED VALUE: ',model.rsquared_adj)"
   ]
  },
  {
   "cell_type": "markdown",
   "id": "644fe675",
   "metadata": {},
   "source": [
    "6. MODEL TESTING\n",
    "\n",
    "Manual calculation"
   ]
  },
  {
   "cell_type": "code",
   "execution_count": 113,
   "id": "401dee64",
   "metadata": {},
   "outputs": [
    {
     "name": "stdout",
     "output_type": "stream",
     "text": [
      "31.318033999999997 is the delivery time taken if the sorting time is 15.\n"
     ]
    }
   ],
   "source": [
    "# The formula for manual calculation is:\n",
    "# y = mx+c, WHERE c is the intercept constant, m is the sorting time parameter value, x is the sorting time\n",
    "# if x is 15\n",
    "y = (1.649020*15)+6.582734\n",
    "print(y,'is the delivery time taken if the sorting time is 15.')"
   ]
  },
  {
   "cell_type": "code",
   "execution_count": 114,
   "id": "db598b9f",
   "metadata": {},
   "outputs": [
    {
     "name": "stdout",
     "output_type": "stream",
     "text": [
      "26.370973999999997 is the delivery time taken when the sorting time is 12.\n"
     ]
    }
   ],
   "source": [
    "# if x = 12\n",
    "y = (1.649020*12)+6.582734\n",
    "print(y,'is the delivery time taken when the sorting time is 12.')"
   ]
  },
  {
   "cell_type": "markdown",
   "id": "a276d9c1",
   "metadata": {},
   "source": [
    "BY MACHINE PREDICTION."
   ]
  },
  {
   "cell_type": "code",
   "execution_count": 115,
   "id": "33f0299c",
   "metadata": {},
   "outputs": [
    {
     "data": {
      "text/html": [
       "<div>\n",
       "<style scoped>\n",
       "    .dataframe tbody tr th:only-of-type {\n",
       "        vertical-align: middle;\n",
       "    }\n",
       "\n",
       "    .dataframe tbody tr th {\n",
       "        vertical-align: top;\n",
       "    }\n",
       "\n",
       "    .dataframe thead th {\n",
       "        text-align: right;\n",
       "    }\n",
       "</style>\n",
       "<table border=\"1\" class=\"dataframe\">\n",
       "  <thead>\n",
       "    <tr style=\"text-align: right;\">\n",
       "      <th></th>\n",
       "      <th>SORTING_TIME</th>\n",
       "    </tr>\n",
       "  </thead>\n",
       "  <tbody>\n",
       "    <tr>\n",
       "      <th>0</th>\n",
       "      <td>11</td>\n",
       "    </tr>\n",
       "    <tr>\n",
       "      <th>1</th>\n",
       "      <td>15</td>\n",
       "    </tr>\n",
       "    <tr>\n",
       "      <th>2</th>\n",
       "      <td>17</td>\n",
       "    </tr>\n",
       "  </tbody>\n",
       "</table>\n",
       "</div>"
      ],
      "text/plain": [
       "   SORTING_TIME\n",
       "0            11\n",
       "1            15\n",
       "2            17"
      ]
     },
     "execution_count": 115,
     "metadata": {},
     "output_type": "execute_result"
    }
   ],
   "source": [
    "new_df = pd.Series([11,15,17])\n",
    "new_pred_df = pd.DataFrame(new_df,columns = ['SORTING_TIME'])\n",
    "new_pred_df"
   ]
  },
  {
   "cell_type": "code",
   "execution_count": 116,
   "id": "1e13e274",
   "metadata": {},
   "outputs": [
    {
     "data": {
      "text/plain": [
       "0    24.721953\n",
       "1    31.318032\n",
       "2    34.616072\n",
       "dtype: float64"
      ]
     },
     "execution_count": 116,
     "metadata": {},
     "output_type": "execute_result"
    }
   ],
   "source": [
    "model.predict(new_pred_df)"
   ]
  },
  {
   "cell_type": "markdown",
   "id": "ceb84d25",
   "metadata": {},
   "source": [
    "THEREFORE THE MODEL PREDICTED THAT:\n",
    "\n",
    "• FOR 11 MINUTES OF SORTING TIME, WE NEED 24 MINUTES TO DELIVER.\n",
    "\n",
    "• FOR 15 MINUTES OF SORTING TIME, WE NEED 31 MINUTES TO DELIVER.\n",
    "\n",
    "• FOR 17 MINUTES OF SORTING TIME, WE NEED 34 MINUTES TO DELIVER."
   ]
  },
  {
   "cell_type": "markdown",
   "id": "fa6b7932",
   "metadata": {},
   "source": [
    "7. APPLYING TRANSFORMATIONS TO THE DATASET. (TO MAKE DATA MORE LINEAR)"
   ]
  },
  {
   "cell_type": "code",
   "execution_count": 117,
   "id": "1a80bb14",
   "metadata": {},
   "outputs": [
    {
     "data": {
      "text/html": [
       "<div>\n",
       "<style scoped>\n",
       "    .dataframe tbody tr th:only-of-type {\n",
       "        vertical-align: middle;\n",
       "    }\n",
       "\n",
       "    .dataframe tbody tr th {\n",
       "        vertical-align: top;\n",
       "    }\n",
       "\n",
       "    .dataframe thead th {\n",
       "        text-align: right;\n",
       "    }\n",
       "</style>\n",
       "<table border=\"1\" class=\"dataframe\">\n",
       "  <thead>\n",
       "    <tr style=\"text-align: right;\">\n",
       "      <th></th>\n",
       "      <th>DELIVERY_TIME</th>\n",
       "      <th>SORTING_TIME</th>\n",
       "    </tr>\n",
       "  </thead>\n",
       "  <tbody>\n",
       "    <tr>\n",
       "      <th>0</th>\n",
       "      <td>21.00</td>\n",
       "      <td>10</td>\n",
       "    </tr>\n",
       "    <tr>\n",
       "      <th>1</th>\n",
       "      <td>13.50</td>\n",
       "      <td>4</td>\n",
       "    </tr>\n",
       "    <tr>\n",
       "      <th>2</th>\n",
       "      <td>19.75</td>\n",
       "      <td>6</td>\n",
       "    </tr>\n",
       "    <tr>\n",
       "      <th>3</th>\n",
       "      <td>24.00</td>\n",
       "      <td>9</td>\n",
       "    </tr>\n",
       "    <tr>\n",
       "      <th>4</th>\n",
       "      <td>29.00</td>\n",
       "      <td>10</td>\n",
       "    </tr>\n",
       "    <tr>\n",
       "      <th>5</th>\n",
       "      <td>15.35</td>\n",
       "      <td>6</td>\n",
       "    </tr>\n",
       "    <tr>\n",
       "      <th>6</th>\n",
       "      <td>19.00</td>\n",
       "      <td>7</td>\n",
       "    </tr>\n",
       "    <tr>\n",
       "      <th>7</th>\n",
       "      <td>9.50</td>\n",
       "      <td>3</td>\n",
       "    </tr>\n",
       "    <tr>\n",
       "      <th>8</th>\n",
       "      <td>17.90</td>\n",
       "      <td>10</td>\n",
       "    </tr>\n",
       "    <tr>\n",
       "      <th>9</th>\n",
       "      <td>18.75</td>\n",
       "      <td>9</td>\n",
       "    </tr>\n",
       "    <tr>\n",
       "      <th>10</th>\n",
       "      <td>19.83</td>\n",
       "      <td>8</td>\n",
       "    </tr>\n",
       "    <tr>\n",
       "      <th>11</th>\n",
       "      <td>10.75</td>\n",
       "      <td>4</td>\n",
       "    </tr>\n",
       "    <tr>\n",
       "      <th>12</th>\n",
       "      <td>16.68</td>\n",
       "      <td>7</td>\n",
       "    </tr>\n",
       "    <tr>\n",
       "      <th>13</th>\n",
       "      <td>11.50</td>\n",
       "      <td>3</td>\n",
       "    </tr>\n",
       "    <tr>\n",
       "      <th>14</th>\n",
       "      <td>12.03</td>\n",
       "      <td>3</td>\n",
       "    </tr>\n",
       "    <tr>\n",
       "      <th>15</th>\n",
       "      <td>14.88</td>\n",
       "      <td>4</td>\n",
       "    </tr>\n",
       "    <tr>\n",
       "      <th>16</th>\n",
       "      <td>13.75</td>\n",
       "      <td>6</td>\n",
       "    </tr>\n",
       "    <tr>\n",
       "      <th>17</th>\n",
       "      <td>18.11</td>\n",
       "      <td>7</td>\n",
       "    </tr>\n",
       "    <tr>\n",
       "      <th>18</th>\n",
       "      <td>8.00</td>\n",
       "      <td>2</td>\n",
       "    </tr>\n",
       "    <tr>\n",
       "      <th>19</th>\n",
       "      <td>17.83</td>\n",
       "      <td>7</td>\n",
       "    </tr>\n",
       "    <tr>\n",
       "      <th>20</th>\n",
       "      <td>21.50</td>\n",
       "      <td>5</td>\n",
       "    </tr>\n",
       "  </tbody>\n",
       "</table>\n",
       "</div>"
      ],
      "text/plain": [
       "    DELIVERY_TIME  SORTING_TIME\n",
       "0           21.00            10\n",
       "1           13.50             4\n",
       "2           19.75             6\n",
       "3           24.00             9\n",
       "4           29.00            10\n",
       "5           15.35             6\n",
       "6           19.00             7\n",
       "7            9.50             3\n",
       "8           17.90            10\n",
       "9           18.75             9\n",
       "10          19.83             8\n",
       "11          10.75             4\n",
       "12          16.68             7\n",
       "13          11.50             3\n",
       "14          12.03             3\n",
       "15          14.88             4\n",
       "16          13.75             6\n",
       "17          18.11             7\n",
       "18           8.00             2\n",
       "19          17.83             7\n",
       "20          21.50             5"
      ]
     },
     "execution_count": 117,
     "metadata": {},
     "output_type": "execute_result"
    }
   ],
   "source": [
    "#USING STANDARD SCALAR\n",
    "x = df.copy()\n",
    "x"
   ]
  },
  {
   "cell_type": "code",
   "execution_count": 118,
   "id": "045b6b7e",
   "metadata": {},
   "outputs": [
    {
     "data": {
      "text/html": [
       "<div>\n",
       "<style scoped>\n",
       "    .dataframe tbody tr th:only-of-type {\n",
       "        vertical-align: middle;\n",
       "    }\n",
       "\n",
       "    .dataframe tbody tr th {\n",
       "        vertical-align: top;\n",
       "    }\n",
       "\n",
       "    .dataframe thead th {\n",
       "        text-align: right;\n",
       "    }\n",
       "</style>\n",
       "<table border=\"1\" class=\"dataframe\">\n",
       "  <thead>\n",
       "    <tr style=\"text-align: right;\">\n",
       "      <th></th>\n",
       "      <th>SORTING_TIME</th>\n",
       "    </tr>\n",
       "  </thead>\n",
       "  <tbody>\n",
       "    <tr>\n",
       "      <th>0</th>\n",
       "      <td>10</td>\n",
       "    </tr>\n",
       "    <tr>\n",
       "      <th>1</th>\n",
       "      <td>4</td>\n",
       "    </tr>\n",
       "    <tr>\n",
       "      <th>2</th>\n",
       "      <td>6</td>\n",
       "    </tr>\n",
       "    <tr>\n",
       "      <th>3</th>\n",
       "      <td>9</td>\n",
       "    </tr>\n",
       "    <tr>\n",
       "      <th>4</th>\n",
       "      <td>10</td>\n",
       "    </tr>\n",
       "    <tr>\n",
       "      <th>5</th>\n",
       "      <td>6</td>\n",
       "    </tr>\n",
       "    <tr>\n",
       "      <th>6</th>\n",
       "      <td>7</td>\n",
       "    </tr>\n",
       "    <tr>\n",
       "      <th>7</th>\n",
       "      <td>3</td>\n",
       "    </tr>\n",
       "    <tr>\n",
       "      <th>8</th>\n",
       "      <td>10</td>\n",
       "    </tr>\n",
       "    <tr>\n",
       "      <th>9</th>\n",
       "      <td>9</td>\n",
       "    </tr>\n",
       "    <tr>\n",
       "      <th>10</th>\n",
       "      <td>8</td>\n",
       "    </tr>\n",
       "    <tr>\n",
       "      <th>11</th>\n",
       "      <td>4</td>\n",
       "    </tr>\n",
       "    <tr>\n",
       "      <th>12</th>\n",
       "      <td>7</td>\n",
       "    </tr>\n",
       "    <tr>\n",
       "      <th>13</th>\n",
       "      <td>3</td>\n",
       "    </tr>\n",
       "    <tr>\n",
       "      <th>14</th>\n",
       "      <td>3</td>\n",
       "    </tr>\n",
       "    <tr>\n",
       "      <th>15</th>\n",
       "      <td>4</td>\n",
       "    </tr>\n",
       "    <tr>\n",
       "      <th>16</th>\n",
       "      <td>6</td>\n",
       "    </tr>\n",
       "    <tr>\n",
       "      <th>17</th>\n",
       "      <td>7</td>\n",
       "    </tr>\n",
       "    <tr>\n",
       "      <th>18</th>\n",
       "      <td>2</td>\n",
       "    </tr>\n",
       "    <tr>\n",
       "      <th>19</th>\n",
       "      <td>7</td>\n",
       "    </tr>\n",
       "    <tr>\n",
       "      <th>20</th>\n",
       "      <td>5</td>\n",
       "    </tr>\n",
       "  </tbody>\n",
       "</table>\n",
       "</div>"
      ],
      "text/plain": [
       "    SORTING_TIME\n",
       "0             10\n",
       "1              4\n",
       "2              6\n",
       "3              9\n",
       "4             10\n",
       "5              6\n",
       "6              7\n",
       "7              3\n",
       "8             10\n",
       "9              9\n",
       "10             8\n",
       "11             4\n",
       "12             7\n",
       "13             3\n",
       "14             3\n",
       "15             4\n",
       "16             6\n",
       "17             7\n",
       "18             2\n",
       "19             7\n",
       "20             5"
      ]
     },
     "execution_count": 118,
     "metadata": {},
     "output_type": "execute_result"
    }
   ],
   "source": [
    "x_input = x[['SORTING_TIME']]\n",
    "x_input"
   ]
  },
  {
   "cell_type": "code",
   "execution_count": 142,
   "id": "58b39b81",
   "metadata": {},
   "outputs": [
    {
     "data": {
      "text/plain": [
       "array([[ 1.53562462],\n",
       "       [-0.88298415],\n",
       "       [-0.07678123],\n",
       "       [ 1.13252315],\n",
       "       [ 1.53562462],\n",
       "       [-0.07678123],\n",
       "       [ 0.32632023],\n",
       "       [-1.28608562],\n",
       "       [ 1.53562462],\n",
       "       [ 1.13252315],\n",
       "       [ 0.72942169],\n",
       "       [-0.88298415],\n",
       "       [ 0.32632023],\n",
       "       [-1.28608562],\n",
       "       [-1.28608562],\n",
       "       [-0.88298415],\n",
       "       [-0.07678123],\n",
       "       [ 0.32632023],\n",
       "       [-1.68918708],\n",
       "       [ 0.32632023],\n",
       "       [-0.47988269]])"
      ]
     },
     "execution_count": 142,
     "metadata": {},
     "output_type": "execute_result"
    }
   ],
   "source": [
    "from sklearn.preprocessing import StandardScaler\n",
    "std_scalar = StandardScaler()\n",
    "scaled_sorting_time = std_scalar.fit_transform((x_input))\n",
    "scaled_sorting_time"
   ]
  },
  {
   "cell_type": "code",
   "execution_count": 143,
   "id": "0f3b2310",
   "metadata": {},
   "outputs": [
    {
     "data": {
      "text/html": [
       "<div>\n",
       "<style scoped>\n",
       "    .dataframe tbody tr th:only-of-type {\n",
       "        vertical-align: middle;\n",
       "    }\n",
       "\n",
       "    .dataframe tbody tr th {\n",
       "        vertical-align: top;\n",
       "    }\n",
       "\n",
       "    .dataframe thead th {\n",
       "        text-align: right;\n",
       "    }\n",
       "</style>\n",
       "<table border=\"1\" class=\"dataframe\">\n",
       "  <thead>\n",
       "    <tr style=\"text-align: right;\">\n",
       "      <th></th>\n",
       "      <th>DELIVERY_TIME</th>\n",
       "      <th>SORTING_TIME</th>\n",
       "      <th>STANDARD_SORT_TIME</th>\n",
       "      <th>LOG_SORT_TIME</th>\n",
       "      <th>SQRT_SORT_TIME</th>\n",
       "      <th>EXP_SORT_TIME</th>\n",
       "      <th>CUBERT_SORT_TIME</th>\n",
       "    </tr>\n",
       "  </thead>\n",
       "  <tbody>\n",
       "    <tr>\n",
       "      <th>0</th>\n",
       "      <td>21.00</td>\n",
       "      <td>10</td>\n",
       "      <td>1.535625</td>\n",
       "      <td>2.302585</td>\n",
       "      <td>3.162278</td>\n",
       "      <td>22026.465795</td>\n",
       "      <td>2.154435</td>\n",
       "    </tr>\n",
       "    <tr>\n",
       "      <th>1</th>\n",
       "      <td>13.50</td>\n",
       "      <td>4</td>\n",
       "      <td>-0.882984</td>\n",
       "      <td>1.386294</td>\n",
       "      <td>2.000000</td>\n",
       "      <td>54.598150</td>\n",
       "      <td>1.587401</td>\n",
       "    </tr>\n",
       "    <tr>\n",
       "      <th>2</th>\n",
       "      <td>19.75</td>\n",
       "      <td>6</td>\n",
       "      <td>-0.076781</td>\n",
       "      <td>1.791759</td>\n",
       "      <td>2.449490</td>\n",
       "      <td>403.428793</td>\n",
       "      <td>1.817121</td>\n",
       "    </tr>\n",
       "    <tr>\n",
       "      <th>3</th>\n",
       "      <td>24.00</td>\n",
       "      <td>9</td>\n",
       "      <td>1.132523</td>\n",
       "      <td>2.197225</td>\n",
       "      <td>3.000000</td>\n",
       "      <td>8103.083928</td>\n",
       "      <td>2.080084</td>\n",
       "    </tr>\n",
       "    <tr>\n",
       "      <th>4</th>\n",
       "      <td>29.00</td>\n",
       "      <td>10</td>\n",
       "      <td>1.535625</td>\n",
       "      <td>2.302585</td>\n",
       "      <td>3.162278</td>\n",
       "      <td>22026.465795</td>\n",
       "      <td>2.154435</td>\n",
       "    </tr>\n",
       "    <tr>\n",
       "      <th>5</th>\n",
       "      <td>15.35</td>\n",
       "      <td>6</td>\n",
       "      <td>-0.076781</td>\n",
       "      <td>1.791759</td>\n",
       "      <td>2.449490</td>\n",
       "      <td>403.428793</td>\n",
       "      <td>1.817121</td>\n",
       "    </tr>\n",
       "    <tr>\n",
       "      <th>6</th>\n",
       "      <td>19.00</td>\n",
       "      <td>7</td>\n",
       "      <td>0.326320</td>\n",
       "      <td>1.945910</td>\n",
       "      <td>2.645751</td>\n",
       "      <td>1096.633158</td>\n",
       "      <td>1.912931</td>\n",
       "    </tr>\n",
       "    <tr>\n",
       "      <th>7</th>\n",
       "      <td>9.50</td>\n",
       "      <td>3</td>\n",
       "      <td>-1.286086</td>\n",
       "      <td>1.098612</td>\n",
       "      <td>1.732051</td>\n",
       "      <td>20.085537</td>\n",
       "      <td>1.442250</td>\n",
       "    </tr>\n",
       "    <tr>\n",
       "      <th>8</th>\n",
       "      <td>17.90</td>\n",
       "      <td>10</td>\n",
       "      <td>1.535625</td>\n",
       "      <td>2.302585</td>\n",
       "      <td>3.162278</td>\n",
       "      <td>22026.465795</td>\n",
       "      <td>2.154435</td>\n",
       "    </tr>\n",
       "    <tr>\n",
       "      <th>9</th>\n",
       "      <td>18.75</td>\n",
       "      <td>9</td>\n",
       "      <td>1.132523</td>\n",
       "      <td>2.197225</td>\n",
       "      <td>3.000000</td>\n",
       "      <td>8103.083928</td>\n",
       "      <td>2.080084</td>\n",
       "    </tr>\n",
       "    <tr>\n",
       "      <th>10</th>\n",
       "      <td>19.83</td>\n",
       "      <td>8</td>\n",
       "      <td>0.729422</td>\n",
       "      <td>2.079442</td>\n",
       "      <td>2.828427</td>\n",
       "      <td>2980.957987</td>\n",
       "      <td>2.000000</td>\n",
       "    </tr>\n",
       "    <tr>\n",
       "      <th>11</th>\n",
       "      <td>10.75</td>\n",
       "      <td>4</td>\n",
       "      <td>-0.882984</td>\n",
       "      <td>1.386294</td>\n",
       "      <td>2.000000</td>\n",
       "      <td>54.598150</td>\n",
       "      <td>1.587401</td>\n",
       "    </tr>\n",
       "    <tr>\n",
       "      <th>12</th>\n",
       "      <td>16.68</td>\n",
       "      <td>7</td>\n",
       "      <td>0.326320</td>\n",
       "      <td>1.945910</td>\n",
       "      <td>2.645751</td>\n",
       "      <td>1096.633158</td>\n",
       "      <td>1.912931</td>\n",
       "    </tr>\n",
       "    <tr>\n",
       "      <th>13</th>\n",
       "      <td>11.50</td>\n",
       "      <td>3</td>\n",
       "      <td>-1.286086</td>\n",
       "      <td>1.098612</td>\n",
       "      <td>1.732051</td>\n",
       "      <td>20.085537</td>\n",
       "      <td>1.442250</td>\n",
       "    </tr>\n",
       "    <tr>\n",
       "      <th>14</th>\n",
       "      <td>12.03</td>\n",
       "      <td>3</td>\n",
       "      <td>-1.286086</td>\n",
       "      <td>1.098612</td>\n",
       "      <td>1.732051</td>\n",
       "      <td>20.085537</td>\n",
       "      <td>1.442250</td>\n",
       "    </tr>\n",
       "    <tr>\n",
       "      <th>15</th>\n",
       "      <td>14.88</td>\n",
       "      <td>4</td>\n",
       "      <td>-0.882984</td>\n",
       "      <td>1.386294</td>\n",
       "      <td>2.000000</td>\n",
       "      <td>54.598150</td>\n",
       "      <td>1.587401</td>\n",
       "    </tr>\n",
       "    <tr>\n",
       "      <th>16</th>\n",
       "      <td>13.75</td>\n",
       "      <td>6</td>\n",
       "      <td>-0.076781</td>\n",
       "      <td>1.791759</td>\n",
       "      <td>2.449490</td>\n",
       "      <td>403.428793</td>\n",
       "      <td>1.817121</td>\n",
       "    </tr>\n",
       "    <tr>\n",
       "      <th>17</th>\n",
       "      <td>18.11</td>\n",
       "      <td>7</td>\n",
       "      <td>0.326320</td>\n",
       "      <td>1.945910</td>\n",
       "      <td>2.645751</td>\n",
       "      <td>1096.633158</td>\n",
       "      <td>1.912931</td>\n",
       "    </tr>\n",
       "    <tr>\n",
       "      <th>18</th>\n",
       "      <td>8.00</td>\n",
       "      <td>2</td>\n",
       "      <td>-1.689187</td>\n",
       "      <td>0.693147</td>\n",
       "      <td>1.414214</td>\n",
       "      <td>7.389056</td>\n",
       "      <td>1.259921</td>\n",
       "    </tr>\n",
       "    <tr>\n",
       "      <th>19</th>\n",
       "      <td>17.83</td>\n",
       "      <td>7</td>\n",
       "      <td>0.326320</td>\n",
       "      <td>1.945910</td>\n",
       "      <td>2.645751</td>\n",
       "      <td>1096.633158</td>\n",
       "      <td>1.912931</td>\n",
       "    </tr>\n",
       "    <tr>\n",
       "      <th>20</th>\n",
       "      <td>21.50</td>\n",
       "      <td>5</td>\n",
       "      <td>-0.479883</td>\n",
       "      <td>1.609438</td>\n",
       "      <td>2.236068</td>\n",
       "      <td>148.413159</td>\n",
       "      <td>1.709976</td>\n",
       "    </tr>\n",
       "  </tbody>\n",
       "</table>\n",
       "</div>"
      ],
      "text/plain": [
       "    DELIVERY_TIME  SORTING_TIME  STANDARD_SORT_TIME  LOG_SORT_TIME  \\\n",
       "0           21.00            10            1.535625       2.302585   \n",
       "1           13.50             4           -0.882984       1.386294   \n",
       "2           19.75             6           -0.076781       1.791759   \n",
       "3           24.00             9            1.132523       2.197225   \n",
       "4           29.00            10            1.535625       2.302585   \n",
       "5           15.35             6           -0.076781       1.791759   \n",
       "6           19.00             7            0.326320       1.945910   \n",
       "7            9.50             3           -1.286086       1.098612   \n",
       "8           17.90            10            1.535625       2.302585   \n",
       "9           18.75             9            1.132523       2.197225   \n",
       "10          19.83             8            0.729422       2.079442   \n",
       "11          10.75             4           -0.882984       1.386294   \n",
       "12          16.68             7            0.326320       1.945910   \n",
       "13          11.50             3           -1.286086       1.098612   \n",
       "14          12.03             3           -1.286086       1.098612   \n",
       "15          14.88             4           -0.882984       1.386294   \n",
       "16          13.75             6           -0.076781       1.791759   \n",
       "17          18.11             7            0.326320       1.945910   \n",
       "18           8.00             2           -1.689187       0.693147   \n",
       "19          17.83             7            0.326320       1.945910   \n",
       "20          21.50             5           -0.479883       1.609438   \n",
       "\n",
       "    SQRT_SORT_TIME  EXP_SORT_TIME  CUBERT_SORT_TIME  \n",
       "0         3.162278   22026.465795          2.154435  \n",
       "1         2.000000      54.598150          1.587401  \n",
       "2         2.449490     403.428793          1.817121  \n",
       "3         3.000000    8103.083928          2.080084  \n",
       "4         3.162278   22026.465795          2.154435  \n",
       "5         2.449490     403.428793          1.817121  \n",
       "6         2.645751    1096.633158          1.912931  \n",
       "7         1.732051      20.085537          1.442250  \n",
       "8         3.162278   22026.465795          2.154435  \n",
       "9         3.000000    8103.083928          2.080084  \n",
       "10        2.828427    2980.957987          2.000000  \n",
       "11        2.000000      54.598150          1.587401  \n",
       "12        2.645751    1096.633158          1.912931  \n",
       "13        1.732051      20.085537          1.442250  \n",
       "14        1.732051      20.085537          1.442250  \n",
       "15        2.000000      54.598150          1.587401  \n",
       "16        2.449490     403.428793          1.817121  \n",
       "17        2.645751    1096.633158          1.912931  \n",
       "18        1.414214       7.389056          1.259921  \n",
       "19        2.645751    1096.633158          1.912931  \n",
       "20        2.236068     148.413159          1.709976  "
      ]
     },
     "execution_count": 143,
     "metadata": {},
     "output_type": "execute_result"
    }
   ],
   "source": [
    "x['STANDARD_SORT_TIME'] = scaled_sorting_time\n",
    "x['LOG_SORT_TIME'] = np.log(x['SORTING_TIME'])\n",
    "x['SQRT_SORT_TIME'] = np.sqrt(x['SORTING_TIME'])\n",
    "x['EXP_SORT_TIME'] = np.exp(x['SORTING_TIME'])\n",
    "x['CUBERT_SORT_TIME'] = np.cbrt(x['SORTING_TIME'])\n",
    "\n",
    "x"
   ]
  },
  {
   "cell_type": "code",
   "execution_count": 144,
   "id": "e25b8f34",
   "metadata": {},
   "outputs": [
    {
     "data": {
      "image/png": "[encoded data removed]",
      "text/plain": [
       "<Figure size 500x500 with 1 Axes>"
      ]
     },
     "metadata": {},
     "output_type": "display_data"
    },
    {
     "data": {
      "image/png": "[encoded data removed]",
      "text/plain": [
       "<Figure size 500x500 with 1 Axes>"
      ]
     },
     "metadata": {},
     "output_type": "display_data"
    },
    {
     "data": {
      "image/png": "[encoded data removed]",
      "text/plain": [
       "<Figure size 500x500 with 1 Axes>"
      ]
     },
     "metadata": {},
     "output_type": "display_data"
    },
    {
     "data": {
      "image/png": "[encoded data removed]",
      "text/plain": [
       "<Figure size 500x500 with 1 Axes>"
      ]
     },
     "metadata": {},
     "output_type": "display_data"
    },
    {
     "data": {
      "image/png": "[encoded data removed]",
      "text/plain": [
       "<Figure size 500x500 with 1 Axes>"
      ]
     },
     "metadata": {},
     "output_type": "display_data"
    },
    {
     "data": {
      "image/png": "[encoded data removed]",
      "text/plain": [
       "<Figure size 500x500 with 1 Axes>"
      ]
     },
     "metadata": {},
     "output_type": "display_data"
    }
   ],
   "source": [
    "sns.lmplot(x='SORTING_TIME',y='DELIVERY_TIME',data = x)\n",
    "plt.title('SORTING_TIME x DELIVERY_TIME')\n",
    "\n",
    "sns.lmplot(x='STANDARD_SORT_TIME',y='DELIVERY_TIME',data = x)\n",
    "plt.title('STANDARD_SORTING_TIME x DELIVERY_TIME')\n",
    "plt.show()\n",
    "\n",
    "sns.lmplot(x='LOG_SORT_TIME',y='DELIVERY_TIME',data = x)\n",
    "plt.title('LOG_SORTING_TIME x DELIVERY_TIME')\n",
    "plt.show()\n",
    "\n",
    "sns.lmplot(x='SQRT_SORT_TIME',y='DELIVERY_TIME',data = x)\n",
    "plt.title('SQRT_SORTING_TIME x DELIVERY_TIME')\n",
    "plt.show()\n",
    "\n",
    "sns.lmplot(x='EXP_SORT_TIME',y='DELIVERY_TIME',data = x)\n",
    "plt.title('EXPONENTIAL_SORTING_TIME x DELIVERY_TIME')\n",
    "plt.show()\n",
    "\n",
    "sns.lmplot(x='CUBERT_SORT_TIME',y='DELIVERY_TIME',data = x)\n",
    "plt.title('CUBERT_SORTING_TIME x DELIVERY_TIME')\n",
    "plt.show()"
   ]
  },
  {
   "cell_type": "markdown",
   "id": "2b995202",
   "metadata": {},
   "source": [
    "MODEL BUILDING USING STATSMODEL DELIVERY TIME AND STANDARD SORT TIME."
   ]
  },
  {
   "cell_type": "code",
   "execution_count": 122,
   "id": "5a18b0f7",
   "metadata": {},
   "outputs": [
    {
     "name": "stdout",
     "output_type": "stream",
     "text": [
      "R SQUARE OF STANDARD SORT TIME:  0.6823\n",
      "ADJUSTED R SQUARE OF STANDARD SORT_TIME:  0.6655\n",
      "AKAIKE SCORE OF STANDARD SORT TIME IS:  106.714\n",
      "BAYESIAN SCORE OF STANDARD SORT TIME IS:  108.803\n"
     ]
    }
   ],
   "source": [
    "model_1 = smf.ols(formula='DELIVERY_TIME ~ STANDARD_SORT_TIME',data=x).fit()\n",
    "print('R SQUARE OF STANDARD SORT TIME: ',round(model_1.rsquared,4))\n",
    "print('ADJUSTED R SQUARE OF STANDARD SORT_TIME: ',round(model_1.rsquared_adj,4))\n",
    "print('AKAIKE SCORE OF STANDARD SORT TIME IS: ',round(model_1.aic,4))\n",
    "print('BAYESIAN SCORE OF STANDARD SORT TIME IS: ',round(model_1.bic,4))"
   ]
  },
  {
   "cell_type": "markdown",
   "id": "c13616ca",
   "metadata": {},
   "source": [
    "MODEL BUILDING USING STATSMODEL DELIVERY TIME AND LOG SORT TIME."
   ]
  },
  {
   "cell_type": "code",
   "execution_count": 123,
   "id": "dafc8540",
   "metadata": {},
   "outputs": [
    {
     "name": "stdout",
     "output_type": "stream",
     "text": [
      "R SQUARE OF LOG SORT TIME:  0.6954\n",
      "ADJUSTED R SQUARE OF LOG SORT_TIME:  0.6794\n",
      "AKAIKE SCORE OF LOG SORT TIME IS:  105.8248\n",
      "BAYESIAN SCORE OF LOG SORT TIME IS:  107.9139\n"
     ]
    }
   ],
   "source": [
    "model_2 = smf.ols(formula='DELIVERY_TIME ~ LOG_SORT_TIME',data=x).fit()\n",
    "print('R SQUARE OF LOG SORT TIME: ',round(model_2.rsquared,4))\n",
    "print('ADJUSTED R SQUARE OF LOG SORT_TIME: ',round(model_2.rsquared_adj,4))\n",
    "print('AKAIKE SCORE OF LOG SORT TIME IS: ',round(model_2.aic,4))\n",
    "print('BAYESIAN SCORE OF LOG SORT TIME IS: ',round(model_2.bic,4))"
   ]
  },
  {
   "cell_type": "markdown",
   "id": "048c73f2",
   "metadata": {},
   "source": [
    "MODEL BUILDING USING STATSMODEL DELIVERY TIME AND SQUARE ROOT SORT TIME."
   ]
  },
  {
   "cell_type": "code",
   "execution_count": 124,
   "id": "240f20f6",
   "metadata": {},
   "outputs": [
    {
     "name": "stdout",
     "output_type": "stream",
     "text": [
      "R SQUARE OF SQRT SORT TIME:  0.6958\n",
      "ADJUSTED R SQUARE OF SQRT SORT_TIME:  0.6798\n",
      "AKAIKE SCORE OF SQRT SORT TIME IS:  105.7998\n",
      "BAYESIAN SCORE OF SQRT SORT TIME IS:  107.8889\n"
     ]
    }
   ],
   "source": [
    "model_3 = smf.ols(formula='DELIVERY_TIME ~ SQRT_SORT_TIME',data=x).fit()\n",
    "print('R SQUARE OF SQRT SORT TIME: ',round(model_3.rsquared,4))\n",
    "print('ADJUSTED R SQUARE OF SQRT SORT_TIME: ',round(model_3.rsquared_adj,4))\n",
    "print('AKAIKE SCORE OF SQRT SORT TIME IS: ',round(model_3.aic,4))\n",
    "print('BAYESIAN SCORE OF SQRT SORT TIME IS: ',round(model_3.bic,4))"
   ]
  },
  {
   "cell_type": "markdown",
   "id": "f2271512",
   "metadata": {},
   "source": [
    "MODEL BUILDING USING STATSMODEL DELIVERY TIME AND EXPONENTIAL SORT TIME."
   ]
  },
  {
   "cell_type": "code",
   "execution_count": 125,
   "id": "b30f2e06",
   "metadata": {},
   "outputs": [
    {
     "name": "stdout",
     "output_type": "stream",
     "text": [
      "R SQUARE OF EXP SORT TIME:  0.3611\n",
      "ADJUSTED R SQUARE OF EXP SORT_TIME:  0.3275\n",
      "AKAIKE SCORE OF EXP SORT TIME IS:  121.383\n",
      "BAYESIAN SCORE OF EXP SORT TIME IS:  123.472\n"
     ]
    }
   ],
   "source": [
    "model_4 = smf.ols(formula='DELIVERY_TIME ~ EXP_SORT_TIME',data=x).fit()\n",
    "print('R SQUARE OF EXP SORT TIME: ',round(model_4.rsquared,4))\n",
    "print('ADJUSTED R SQUARE OF EXP SORT_TIME: ',round(model_4.rsquared_adj,4))\n",
    "print('AKAIKE SCORE OF EXP SORT TIME IS: ',round(model_4.aic,4))\n",
    "print('BAYESIAN SCORE OF EXP SORT TIME IS: ',round(model_4.bic,4))"
   ]
  },
  {
   "cell_type": "markdown",
   "id": "18fa56b8",
   "metadata": {},
   "source": [
    "MODEL BUILDING USING STATSMODEL DELIVERY TIME AND CUBIC ROOT SORT TIME."
   ]
  },
  {
   "cell_type": "code",
   "execution_count": 126,
   "id": "cfae951a",
   "metadata": {},
   "outputs": [
    {
     "name": "stdout",
     "output_type": "stream",
     "text": [
      "R SQUARE OF CUBERT SORT TIME:  0.6974\n",
      "ADJUSTED R SQUARE OF CUBERT SORT_TIME:  0.6815\n",
      "AKAIKE SCORE OF CUBERT SORT TIME IS:  105.6882\n",
      "BAYESIAN SCORE OF CUBERT SORT TIME IS:  107.7773\n"
     ]
    }
   ],
   "source": [
    "model_5 = smf.ols(formula='DELIVERY_TIME ~ CUBERT_SORT_TIME',data=x).fit()\n",
    "print('R SQUARE OF CUBERT SORT TIME: ',round(model_5.rsquared,4))\n",
    "print('ADJUSTED R SQUARE OF CUBERT SORT_TIME: ',round(model_5.rsquared_adj,4))\n",
    "print('AKAIKE SCORE OF CUBERT SORT TIME IS: ',round(model_5.aic,4))\n",
    "print('BAYESIAN SCORE OF CUBERT SORT TIME IS: ',round(model_5.bic,4))"
   ]
  },
  {
   "cell_type": "markdown",
   "id": "7f9b6cc5",
   "metadata": {},
   "source": [
    "HERE WE CAN CONFIRM THE MODEL USING THE CUBE ROOT AS THE BEST MODEL BECAUSE OF:\n",
    "\n",
    "•R SQUARE AND ADJUSTED R SQUARED IS HIGHER COMPARITIVELY HIGHER.\n",
    "\n",
    "•BOTH AIC AND BIC VALUES ARE LOWER COMPARED TO OTHER MODEL.\n",
    "\n",
    "•HENCE WE TAKE THE CUBIC ROOT MODEL I.E MODEL 3 FOR PREDICTION. "
   ]
  },
  {
   "cell_type": "code",
   "execution_count": 138,
   "id": "3cd7f1ff",
   "metadata": {},
   "outputs": [
    {
     "data": {
      "text/html": [
       "<div>\n",
       "<style scoped>\n",
       "    .dataframe tbody tr th:only-of-type {\n",
       "        vertical-align: middle;\n",
       "    }\n",
       "\n",
       "    .dataframe tbody tr th {\n",
       "        vertical-align: top;\n",
       "    }\n",
       "\n",
       "    .dataframe thead th {\n",
       "        text-align: right;\n",
       "    }\n",
       "</style>\n",
       "<table border=\"1\" class=\"dataframe\">\n",
       "  <thead>\n",
       "    <tr style=\"text-align: right;\">\n",
       "      <th></th>\n",
       "      <th>SORTING_TIME</th>\n",
       "    </tr>\n",
       "  </thead>\n",
       "  <tbody>\n",
       "    <tr>\n",
       "      <th>0</th>\n",
       "      <td>11</td>\n",
       "    </tr>\n",
       "    <tr>\n",
       "      <th>1</th>\n",
       "      <td>15</td>\n",
       "    </tr>\n",
       "    <tr>\n",
       "      <th>2</th>\n",
       "      <td>17</td>\n",
       "    </tr>\n",
       "  </tbody>\n",
       "</table>\n",
       "</div>"
      ],
      "text/plain": [
       "   SORTING_TIME\n",
       "0            11\n",
       "1            15\n",
       "2            17"
      ]
     },
     "execution_count": 138,
     "metadata": {},
     "output_type": "execute_result"
    }
   ],
   "source": [
    "new_data = new_df.copy()\n",
    "new_pred_data = pd.DataFrame(new_data,columns=['SORTING_TIME'])\n",
    "new_pred_data"
   ]
  },
  {
   "cell_type": "code",
   "execution_count": 139,
   "id": "268a6dd4",
   "metadata": {},
   "outputs": [
    {
     "data": {
      "text/html": [
       "<div>\n",
       "<style scoped>\n",
       "    .dataframe tbody tr th:only-of-type {\n",
       "        vertical-align: middle;\n",
       "    }\n",
       "\n",
       "    .dataframe tbody tr th {\n",
       "        vertical-align: top;\n",
       "    }\n",
       "\n",
       "    .dataframe thead th {\n",
       "        text-align: right;\n",
       "    }\n",
       "</style>\n",
       "<table border=\"1\" class=\"dataframe\">\n",
       "  <thead>\n",
       "    <tr style=\"text-align: right;\">\n",
       "      <th></th>\n",
       "      <th>SORTING_TIME</th>\n",
       "      <th>CUBERT_SORT_TIME</th>\n",
       "    </tr>\n",
       "  </thead>\n",
       "  <tbody>\n",
       "    <tr>\n",
       "      <th>0</th>\n",
       "      <td>11</td>\n",
       "      <td>2.223980</td>\n",
       "    </tr>\n",
       "    <tr>\n",
       "      <th>1</th>\n",
       "      <td>15</td>\n",
       "      <td>2.466212</td>\n",
       "    </tr>\n",
       "    <tr>\n",
       "      <th>2</th>\n",
       "      <td>17</td>\n",
       "      <td>2.571282</td>\n",
       "    </tr>\n",
       "  </tbody>\n",
       "</table>\n",
       "</div>"
      ],
      "text/plain": [
       "   SORTING_TIME  CUBERT_SORT_TIME\n",
       "0            11          2.223980\n",
       "1            15          2.466212\n",
       "2            17          2.571282"
      ]
     },
     "execution_count": 139,
     "metadata": {},
     "output_type": "execute_result"
    }
   ],
   "source": [
    "new_pred_data['CUBERT_SORT_TIME'] = np.cbrt(new_pred_data['SORTING_TIME'])\n",
    "new_pred_data"
   ]
  },
  {
   "cell_type": "code",
   "execution_count": 140,
   "id": "9f7d753c",
   "metadata": {},
   "outputs": [
    {
     "data": {
      "text/plain": [
       "0    23.486923\n",
       "1    27.306264\n",
       "2    28.962925\n",
       "dtype: float64"
      ]
     },
     "execution_count": 140,
     "metadata": {},
     "output_type": "execute_result"
    }
   ],
   "source": [
    "model_5.predict(new_pred_data)"
   ]
  },
  {
   "cell_type": "markdown",
   "id": "596d26dc",
   "metadata": {},
   "source": [
    "CONCLUSION:\n",
    "    \n",
    "• IN OUR FIRST MODEL WE GOT 24 MIN APPROX FOR 11 MINUTE OF SORTING TIME, BUT OUR BEST MODEL PREDICTED APPROXIMATELY   23 MINUTES OF DELIVERY TIME.\n",
    "    \n",
    "• IN OUR FIRST MODEL WE GOT 31 MIN APPROX FOR 15 MINUTE OF SORTING TIME, BUT OUR BEST MODEL PREDICTED APPROXIMATELY   27 MINUTES OF DELIVERY TIME.\n",
    "    \n",
    "• IN OUR FIRST MODEL WE GOT 34 MIN APPROX FOR 17 MINUTE OF SORTING TIME, BUT OUR BEST MODEL PREDICTED APPROXIMATELY   28 MINUTES OF DELIVERY TIME."
   ]
  }
 ],
 "metadata": {
  "kernelspec": {
   "display_name": "Python 3 (ipykernel)",
   "language": "python",
   "name": "python3"
  },
  "language_info": {
   "codemirror_mode": {
    "name": "ipython",
    "version": 3
   },
   "file_extension": ".py",
   "mimetype": "text/x-python",
   "name": "python",
   "nbconvert_exporter": "python",
   "pygments_lexer": "ipython3",
   "version": "3.9.12"
  }
 },
 "nbformat": 4,
 "nbformat_minor": 5
}
